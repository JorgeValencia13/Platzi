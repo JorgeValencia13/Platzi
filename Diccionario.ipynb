{
 "cells": [
  {
   "cell_type": "code",
   "execution_count": 8,
   "metadata": {},
   "outputs": [
    {
     "name": "stdout",
     "output_type": "stream",
     "text": [
      "{1: 2, 2: 4, 3: 6, 4: 8}\n"
     ]
    },
    {
     "data": {
      "text/plain": [
       "4"
      ]
     },
     "execution_count": 8,
     "metadata": {},
     "output_type": "execute_result"
    }
   ],
   "source": [
    "#Se declara un diccionario y se llena con un iterable\n",
    "dict = {}\n",
    "for i in range(1, 5):\n",
    "  dict[i] = i * 2\n",
    "print(dict)\n",
    "dict[2]"
   ]
  },
  {
   "cell_type": "code",
   "execution_count": 14,
   "metadata": {},
   "outputs": [
    {
     "name": "stdout",
     "output_type": "stream",
     "text": [
      "{1: 2, 2: 4, 3: 6, 4: 8}\n"
     ]
    },
    {
     "data": {
      "text/plain": [
       "8"
      ]
     },
     "execution_count": 14,
     "metadata": {},
     "output_type": "execute_result"
    }
   ],
   "source": [
    "#forma de hacer lo mismo en una sola línea \"expresión lambda\"\n",
    "dict_v2 = { i: i * 2 for i in range(1, 5)}\n",
    "print(dict_v2)\n",
    "dict_v2[4]"
   ]
  },
  {
   "cell_type": "code",
   "execution_count": 25,
   "metadata": {},
   "outputs": [
    {
     "name": "stdout",
     "output_type": "stream",
     "text": [
      "{'Arbol_1': 2093, 'Arbol_2': 3917, 'Arbol_3': 5350, 'Arbol_4': 5474, 'Arbol_5': 2809, 'Arbol_6': 3904, 'Arbol_7': 6758, 'Arbol_8': 2740, 'Arbol_9': 4751, 'Arbol_10': 618}\n"
     ]
    },
    {
     "data": {
      "text/plain": [
       "dict"
      ]
     },
     "execution_count": 25,
     "metadata": {},
     "output_type": "execute_result"
    }
   ],
   "source": [
    "#elaboración de un diccionario a partir de un arreglo, donde se le asigna un número aleatorio a cada arbol.\n",
    "import random\n",
    "countries = ['Arbol_1', 'Arbol_2', 'Arbol_3','Arbol_4', 'Arbol_5', 'Arbol_6', 'Arbol_7', 'Arbol_8', 'Arbol_9', 'Arbol_10',]\n",
    "population = {}\n",
    "for country in countries:\n",
    "  population[country] = random.randint(1, 7132)\n",
    "print(population)\n",
    "#Tipo de dato\n",
    "type (population)"
   ]
  },
  {
   "cell_type": "code",
   "execution_count": 27,
   "metadata": {},
   "outputs": [
    {
     "name": "stdout",
     "output_type": "stream",
     "text": [
      "{'Arbol_1': 2076, 'Arbol_2': 6366, 'Arbol_3': 3459, 'Arbol_4': 2838, 'Arbol_5': 3264, 'Arbol_6': 4997, 'Arbol_7': 5442, 'Arbol_8': 3791, 'Arbol_9': 6936, 'Arbol_10': 6107}\n"
     ]
    },
    {
     "data": {
      "text/plain": [
       "dict"
      ]
     },
     "execution_count": 27,
     "metadata": {},
     "output_type": "execute_result"
    }
   ],
   "source": [
    "#Expresión corta \n",
    "population_v2 = {country: random.randint(1, 7132)  for country in countries}\n",
    "print(population_v2)\n",
    "\n",
    "type (population)"
   ]
  },
  {
   "cell_type": "code",
   "execution_count": 55,
   "metadata": {},
   "outputs": [
    {
     "name": "stdout",
     "output_type": "stream",
     "text": [
      "[('nico', 12), ('zule', 56), ('santi', 98), ('Danilo', 40)]\n"
     ]
    },
    {
     "data": {
      "text/plain": [
       "list"
      ]
     },
     "execution_count": 55,
     "metadata": {},
     "output_type": "execute_result"
    }
   ],
   "source": [
    "#zip emparejan las listas \"Se acomoda al tamaño de la lista mas pequeña\"\n",
    "names = ['nico', 'zule', 'santi', 'Danilo']\n",
    "ages = [12, 56, 98, 40]\n",
    "\n",
    "print(list(zip(names, ages)))\n",
    "\n",
    "#new_list = list(zip(names, ages))\n",
    "#print(new_list)\n",
    "\n",
    "type(names)"
   ]
  },
  {
   "cell_type": "code",
   "execution_count": 37,
   "metadata": {},
   "outputs": [
    {
     "name": "stdout",
     "output_type": "stream",
     "text": [
      "0 Alice 24\n",
      "1 Bob 50\n",
      "2 Charlie 18\n"
     ]
    },
    {
     "data": {
      "text/plain": [
       "list"
      ]
     },
     "execution_count": 37,
     "metadata": {},
     "output_type": "execute_result"
    }
   ],
   "source": [
    "names = ['Alice', 'Bob', 'Charlie']\n",
    "ages = [24, 50, 18]\n",
    "\n",
    "for i, (name, age) in enumerate(zip(names, ages)):\n",
    "    print(i, name, age)\n",
    "    \n",
    "type(ages)"
   ]
  },
  {
   "cell_type": "code",
   "execution_count": 38,
   "metadata": {},
   "outputs": [
    {
     "name": "stdout",
     "output_type": "stream",
     "text": [
      "{'Alice': 24, 'Bob': 50, 'Charlie': 18}\n"
     ]
    },
    {
     "data": {
      "text/plain": [
       "dict"
      ]
     },
     "execution_count": 38,
     "metadata": {},
     "output_type": "execute_result"
    }
   ],
   "source": [
    "#\n",
    "new_dict = {name: age for (name, age) in zip(names, ages)}\n",
    "print(new_dict)\n",
    "\n",
    "type(new_dict)"
   ]
  },
  {
   "cell_type": "code",
   "execution_count": null,
   "metadata": {},
   "outputs": [],
   "source": []
  }
 ],
 "metadata": {
  "kernelspec": {
   "display_name": "Python 3 (ipykernel)",
   "language": "python",
   "name": "python3"
  },
  "language_info": {
   "codemirror_mode": {
    "name": "ipython",
    "version": 3
   },
   "file_extension": ".py",
   "mimetype": "text/x-python",
   "name": "python",
   "nbconvert_exporter": "python",
   "pygments_lexer": "ipython3",
   "version": "3.9.7"
  }
 },
 "nbformat": 4,
 "nbformat_minor": 4
}
