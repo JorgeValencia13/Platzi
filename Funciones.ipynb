{
 "cells": [
  {
   "cell_type": "code",
   "execution_count": 6,
   "metadata": {},
   "outputs": [
    {
     "name": "stdout",
     "output_type": "stream",
     "text": [
      "Esta es una función que imprime en pantalla, el parametro que se le envía\n"
     ]
    }
   ],
   "source": [
    "#funciones, estas nos permiten la reutilizacón del código\n",
    "print('Esta es una función que imprime en pantalla, el parametro que se le envía')"
   ]
  },
  {
   "cell_type": "code",
   "execution_count": 5,
   "metadata": {},
   "outputs": [
    {
     "name": "stdout",
     "output_type": "stream",
     "text": [
      "Voy a llamar mi nueva función, y ese es el parametro que le envío, Voy a llamar mi nueva función, y ese es el parametro que le envío, Voy a llamar mi nueva función, y ese es el parametro que le envío, Voy a llamar mi nueva función, y ese es el parametro que le envío, Voy a llamar mi nueva función, y ese es el parametro que le envío, \n"
     ]
    }
   ],
   "source": [
    "#Mi primera finción\n",
    "def my_print(text):\n",
    "    print(text * 5)\n",
    "    \n",
    "my_print('Voy a llamar mi nueva función, y ese es el parametro que le envío, ')    "
   ]
  },
  {
   "cell_type": "code",
   "execution_count": null,
   "metadata": {},
   "outputs": [],
   "source": []
  }
 ],
 "metadata": {
  "kernelspec": {
   "display_name": "Python 3 (ipykernel)",
   "language": "python",
   "name": "python3"
  },
  "language_info": {
   "codemirror_mode": {
    "name": "ipython",
    "version": 3
   },
   "file_extension": ".py",
   "mimetype": "text/x-python",
   "name": "python",
   "nbconvert_exporter": "python",
   "pygments_lexer": "ipython3",
   "version": "3.9.7"
  }
 },
 "nbformat": 4,
 "nbformat_minor": 4
}
